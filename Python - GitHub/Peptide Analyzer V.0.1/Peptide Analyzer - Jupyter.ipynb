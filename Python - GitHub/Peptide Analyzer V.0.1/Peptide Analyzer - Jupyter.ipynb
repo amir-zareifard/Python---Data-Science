{
 "cells": [
  {
   "cell_type": "code",
   "execution_count": 1,
   "id": "68c32d6f",
   "metadata": {},
   "outputs": [],
   "source": [
    "import pandas as pd"
   ]
  },
  {
   "cell_type": "code",
   "execution_count": 7,
   "id": "3308e9fd",
   "metadata": {},
   "outputs": [],
   "source": [
    "peptides_lib = pd.read_excel('Peptides Sample - JAK3.xlsx')"
   ]
  },
  {
   "cell_type": "code",
   "execution_count": 29,
   "id": "bdcd0891",
   "metadata": {},
   "outputs": [
    {
     "name": "stdout",
     "output_type": "stream",
     "text": [
      "<class 'pandas.core.frame.DataFrame'>\n",
      "RangeIndex: 10 entries, 0 to 9\n",
      "Data columns (total 13 columns):\n",
      " #   Column                         Non-Null Count  Dtype \n",
      "---  ------                         --------------  ----- \n",
      " 0   Peptides Num                   10 non-null     int64 \n",
      " 1   length (aa)                    10 non-null     int64 \n",
      " 2   Annotated Amino Acid Sequence  10 non-null     object\n",
      " 3   Positions in Master Proteins   10 non-null     object\n",
      " 4   Abd. Sample, CTL - Set1        10 non-null     int64 \n",
      " 5   Abd. Sample, FSH - Set1        10 non-null     int64 \n",
      " 6   Abd. Sample, JNX - Set1        10 non-null     int64 \n",
      " 7   Abd. Sample, CTL - Set2        10 non-null     int64 \n",
      " 8   Abd. Sample, FSH - Set2        10 non-null     int64 \n",
      " 9   Abd. Sample, JNX - Set2        10 non-null     int64 \n",
      " 10  Abd. Sample, CTL - Set3        10 non-null     int64 \n",
      " 11  Abd. Sample, FSH - Set3        10 non-null     int64 \n",
      " 12  Abd. Sample, JNX - Set3        10 non-null     int64 \n",
      "dtypes: int64(11), object(2)\n",
      "memory usage: 1.1+ KB\n"
     ]
    }
   ],
   "source": [
    "peptides_lib.info()"
   ]
  },
  {
   "cell_type": "code",
   "execution_count": 33,
   "id": "4f32328d",
   "metadata": {},
   "outputs": [
    {
     "data": {
      "text/html": [
       "<div>\n",
       "<style scoped>\n",
       "    .dataframe tbody tr th:only-of-type {\n",
       "        vertical-align: middle;\n",
       "    }\n",
       "\n",
       "    .dataframe tbody tr th {\n",
       "        vertical-align: top;\n",
       "    }\n",
       "\n",
       "    .dataframe thead th {\n",
       "        text-align: right;\n",
       "    }\n",
       "</style>\n",
       "<table border=\"1\" class=\"dataframe\">\n",
       "  <thead>\n",
       "    <tr style=\"text-align: right;\">\n",
       "      <th></th>\n",
       "      <th>Peptides Num</th>\n",
       "      <th>length (aa)</th>\n",
       "      <th>Annotated Amino Acid Sequence</th>\n",
       "      <th>Positions in Master Proteins</th>\n",
       "      <th>Abd. Sample, CTL - Set1</th>\n",
       "      <th>Abd. Sample, FSH - Set1</th>\n",
       "      <th>Abd. Sample, JNX - Set1</th>\n",
       "      <th>Abd. Sample, CTL - Set2</th>\n",
       "      <th>Abd. Sample, FSH - Set2</th>\n",
       "      <th>Abd. Sample, JNX - Set2</th>\n",
       "      <th>Abd. Sample, CTL - Set3</th>\n",
       "      <th>Abd. Sample, FSH - Set3</th>\n",
       "      <th>Abd. Sample, JNX - Set3</th>\n",
       "    </tr>\n",
       "  </thead>\n",
       "  <tbody>\n",
       "    <tr>\n",
       "      <th>1</th>\n",
       "      <td>2</td>\n",
       "      <td>31</td>\n",
       "      <td>NXBSUZLDYKVPEWITOANEPRYUBHQXMLS</td>\n",
       "      <td>JAK3 [10-40]</td>\n",
       "      <td>36</td>\n",
       "      <td>80</td>\n",
       "      <td>25</td>\n",
       "      <td>45</td>\n",
       "      <td>75</td>\n",
       "      <td>19</td>\n",
       "      <td>42</td>\n",
       "      <td>85</td>\n",
       "      <td>34</td>\n",
       "    </tr>\n",
       "    <tr>\n",
       "      <th>7</th>\n",
       "      <td>8</td>\n",
       "      <td>31</td>\n",
       "      <td>VGKQTRWDHOZSLEBIFJCANXMPKRGQYTS</td>\n",
       "      <td>JAK3 [60-90]</td>\n",
       "      <td>39</td>\n",
       "      <td>65</td>\n",
       "      <td>12</td>\n",
       "      <td>59</td>\n",
       "      <td>88</td>\n",
       "      <td>13</td>\n",
       "      <td>44</td>\n",
       "      <td>66</td>\n",
       "      <td>30</td>\n",
       "    </tr>\n",
       "    <tr>\n",
       "      <th>9</th>\n",
       "      <td>10</td>\n",
       "      <td>31</td>\n",
       "      <td>PRYUBHQXMLSVZKDWFTOGIJCANEPRYUB</td>\n",
       "      <td>JAK3 [30-60]</td>\n",
       "      <td>32</td>\n",
       "      <td>61</td>\n",
       "      <td>7</td>\n",
       "      <td>35</td>\n",
       "      <td>68</td>\n",
       "      <td>9</td>\n",
       "      <td>60</td>\n",
       "      <td>71</td>\n",
       "      <td>6</td>\n",
       "    </tr>\n",
       "  </tbody>\n",
       "</table>\n",
       "</div>"
      ],
      "text/plain": [
       "   Peptides Num  length (aa)    Annotated Amino Acid Sequence  \\\n",
       "1             2           31  NXBSUZLDYKVPEWITOANEPRYUBHQXMLS   \n",
       "7             8           31  VGKQTRWDHOZSLEBIFJCANXMPKRGQYTS   \n",
       "9            10           31  PRYUBHQXMLSVZKDWFTOGIJCANEPRYUB   \n",
       "\n",
       "  Positions in Master Proteins  Abd. Sample, CTL - Set1  \\\n",
       "1                 JAK3 [10-40]                       36   \n",
       "7                 JAK3 [60-90]                       39   \n",
       "9                 JAK3 [30-60]                       32   \n",
       "\n",
       "   Abd. Sample, FSH - Set1  Abd. Sample, JNX - Set1  Abd. Sample, CTL - Set2  \\\n",
       "1                       80                       25                       45   \n",
       "7                       65                       12                       59   \n",
       "9                       61                        7                       35   \n",
       "\n",
       "   Abd. Sample, FSH - Set2  Abd. Sample, JNX - Set2  Abd. Sample, CTL - Set3  \\\n",
       "1                       75                       19                       42   \n",
       "7                       88                       13                       44   \n",
       "9                       68                        9                       60   \n",
       "\n",
       "   Abd. Sample, FSH - Set3  Abd. Sample, JNX - Set3  \n",
       "1                       85                       34  \n",
       "7                       66                       30  \n",
       "9                       71                        6  "
      ]
     },
     "execution_count": 33,
     "metadata": {},
     "output_type": "execute_result"
    }
   ],
   "source": [
    "peptides_lib[peptides_lib['length (aa)'] == peptides_lib['length (aa)'].max()]"
   ]
  },
  {
   "cell_type": "code",
   "execution_count": 36,
   "id": "e699fab6",
   "metadata": {},
   "outputs": [
    {
     "data": {
      "text/html": [
       "<div>\n",
       "<style scoped>\n",
       "    .dataframe tbody tr th:only-of-type {\n",
       "        vertical-align: middle;\n",
       "    }\n",
       "\n",
       "    .dataframe tbody tr th {\n",
       "        vertical-align: top;\n",
       "    }\n",
       "\n",
       "    .dataframe thead th {\n",
       "        text-align: right;\n",
       "    }\n",
       "</style>\n",
       "<table border=\"1\" class=\"dataframe\">\n",
       "  <thead>\n",
       "    <tr style=\"text-align: right;\">\n",
       "      <th></th>\n",
       "      <th>Peptides Num</th>\n",
       "      <th>length (aa)</th>\n",
       "      <th>Annotated Amino Acid Sequence</th>\n",
       "      <th>Positions in Master Proteins</th>\n",
       "      <th>Abd. Sample, CTL - Set1</th>\n",
       "      <th>Abd. Sample, FSH - Set1</th>\n",
       "      <th>Abd. Sample, JNX - Set1</th>\n",
       "      <th>Abd. Sample, CTL - Set2</th>\n",
       "      <th>Abd. Sample, FSH - Set2</th>\n",
       "      <th>Abd. Sample, JNX - Set2</th>\n",
       "      <th>Abd. Sample, CTL - Set3</th>\n",
       "      <th>Abd. Sample, FSH - Set3</th>\n",
       "      <th>Abd. Sample, JNX - Set3</th>\n",
       "    </tr>\n",
       "  </thead>\n",
       "  <tbody>\n",
       "    <tr>\n",
       "      <th>3</th>\n",
       "      <td>4</td>\n",
       "      <td>16</td>\n",
       "      <td>PNMUYVGKQTRWDHOZ</td>\n",
       "      <td>JAK3 [55-70]</td>\n",
       "      <td>43</td>\n",
       "      <td>87</td>\n",
       "      <td>8</td>\n",
       "      <td>57</td>\n",
       "      <td>73</td>\n",
       "      <td>11</td>\n",
       "      <td>37</td>\n",
       "      <td>70</td>\n",
       "      <td>10</td>\n",
       "    </tr>\n",
       "  </tbody>\n",
       "</table>\n",
       "</div>"
      ],
      "text/plain": [
       "   Peptides Num  length (aa) Annotated Amino Acid Sequence  \\\n",
       "3             4           16              PNMUYVGKQTRWDHOZ   \n",
       "\n",
       "  Positions in Master Proteins  Abd. Sample, CTL - Set1  \\\n",
       "3                 JAK3 [55-70]                       43   \n",
       "\n",
       "   Abd. Sample, FSH - Set1  Abd. Sample, JNX - Set1  Abd. Sample, CTL - Set2  \\\n",
       "3                       87                        8                       57   \n",
       "\n",
       "   Abd. Sample, FSH - Set2  Abd. Sample, JNX - Set2  Abd. Sample, CTL - Set3  \\\n",
       "3                       73                       11                       37   \n",
       "\n",
       "   Abd. Sample, FSH - Set3  Abd. Sample, JNX - Set3  \n",
       "3                       70                       10  "
      ]
     },
     "execution_count": 36,
     "metadata": {},
     "output_type": "execute_result"
    }
   ],
   "source": [
    "peptides_lib[peptides_lib['length (aa)'] == peptides_lib['length (aa)'].min()]"
   ]
  },
  {
   "cell_type": "code",
   "execution_count": 37,
   "id": "f4e277f2",
   "metadata": {},
   "outputs": [
    {
     "data": {
      "text/plain": [
       "3    JAK3 [55-70]\n",
       "Name: Positions in Master Proteins, dtype: object"
      ]
     },
     "execution_count": 37,
     "metadata": {},
     "output_type": "execute_result"
    }
   ],
   "source": [
    "peptides_lib[peptides_lib['length (aa)'] == peptides_lib['length (aa)'].min()]['Positions in Master Proteins']"
   ]
  },
  {
   "cell_type": "code",
   "execution_count": 38,
   "id": "c7de5b6d",
   "metadata": {},
   "outputs": [
    {
     "data": {
      "text/html": [
       "<div>\n",
       "<style scoped>\n",
       "    .dataframe tbody tr th:only-of-type {\n",
       "        vertical-align: middle;\n",
       "    }\n",
       "\n",
       "    .dataframe tbody tr th {\n",
       "        vertical-align: top;\n",
       "    }\n",
       "\n",
       "    .dataframe thead th {\n",
       "        text-align: right;\n",
       "    }\n",
       "</style>\n",
       "<table border=\"1\" class=\"dataframe\">\n",
       "  <thead>\n",
       "    <tr style=\"text-align: right;\">\n",
       "      <th></th>\n",
       "      <th>Peptides Num</th>\n",
       "      <th>length (aa)</th>\n",
       "      <th>Annotated Amino Acid Sequence</th>\n",
       "      <th>Positions in Master Proteins</th>\n",
       "      <th>Abd. Sample, CTL - Set1</th>\n",
       "      <th>Abd. Sample, FSH - Set1</th>\n",
       "      <th>Abd. Sample, JNX - Set1</th>\n",
       "      <th>Abd. Sample, CTL - Set2</th>\n",
       "      <th>Abd. Sample, FSH - Set2</th>\n",
       "      <th>Abd. Sample, JNX - Set2</th>\n",
       "      <th>Abd. Sample, CTL - Set3</th>\n",
       "      <th>Abd. Sample, FSH - Set3</th>\n",
       "      <th>Abd. Sample, JNX - Set3</th>\n",
       "    </tr>\n",
       "  </thead>\n",
       "  <tbody>\n",
       "    <tr>\n",
       "      <th>0</th>\n",
       "      <td>1</td>\n",
       "      <td>21</td>\n",
       "      <td>IJCAXPNMUYVGKQTRWDHOZ</td>\n",
       "      <td>JAK3 [50-70]</td>\n",
       "      <td>49</td>\n",
       "      <td>74</td>\n",
       "      <td>18</td>\n",
       "      <td>53</td>\n",
       "      <td>61</td>\n",
       "      <td>22</td>\n",
       "      <td>56</td>\n",
       "      <td>62</td>\n",
       "      <td>17</td>\n",
       "    </tr>\n",
       "    <tr>\n",
       "      <th>1</th>\n",
       "      <td>2</td>\n",
       "      <td>31</td>\n",
       "      <td>NXBSUZLDYKVPEWITOANEPRYUBHQXMLS</td>\n",
       "      <td>JAK3 [10-40]</td>\n",
       "      <td>36</td>\n",
       "      <td>80</td>\n",
       "      <td>25</td>\n",
       "      <td>45</td>\n",
       "      <td>75</td>\n",
       "      <td>19</td>\n",
       "      <td>42</td>\n",
       "      <td>85</td>\n",
       "      <td>34</td>\n",
       "    </tr>\n",
       "    <tr>\n",
       "      <th>2</th>\n",
       "      <td>3</td>\n",
       "      <td>21</td>\n",
       "      <td>NXMPKRGQYTSLUODHWBIEZ</td>\n",
       "      <td>JAK3 [80-100]</td>\n",
       "      <td>52</td>\n",
       "      <td>63</td>\n",
       "      <td>37</td>\n",
       "      <td>34</td>\n",
       "      <td>89</td>\n",
       "      <td>27</td>\n",
       "      <td>51</td>\n",
       "      <td>77</td>\n",
       "      <td>26</td>\n",
       "    </tr>\n",
       "    <tr>\n",
       "      <th>3</th>\n",
       "      <td>4</td>\n",
       "      <td>16</td>\n",
       "      <td>PNMUYVGKQTRWDHOZ</td>\n",
       "      <td>JAK3 [55-70]</td>\n",
       "      <td>43</td>\n",
       "      <td>87</td>\n",
       "      <td>8</td>\n",
       "      <td>57</td>\n",
       "      <td>73</td>\n",
       "      <td>11</td>\n",
       "      <td>37</td>\n",
       "      <td>70</td>\n",
       "      <td>10</td>\n",
       "    </tr>\n",
       "    <tr>\n",
       "      <th>4</th>\n",
       "      <td>5</td>\n",
       "      <td>26</td>\n",
       "      <td>NXBSUZLDYKVPEWITOANEPRYUBH</td>\n",
       "      <td>JAK3 [10-35]</td>\n",
       "      <td>58</td>\n",
       "      <td>72</td>\n",
       "      <td>35</td>\n",
       "      <td>41</td>\n",
       "      <td>67</td>\n",
       "      <td>36</td>\n",
       "      <td>54</td>\n",
       "      <td>82</td>\n",
       "      <td>24</td>\n",
       "    </tr>\n",
       "    <tr>\n",
       "      <th>5</th>\n",
       "      <td>6</td>\n",
       "      <td>26</td>\n",
       "      <td>RWDHOZSLEBIFJCANXMPKRGQYTS</td>\n",
       "      <td>JAK3 [65-90]</td>\n",
       "      <td>31</td>\n",
       "      <td>69</td>\n",
       "      <td>14</td>\n",
       "      <td>50</td>\n",
       "      <td>64</td>\n",
       "      <td>16</td>\n",
       "      <td>48</td>\n",
       "      <td>86</td>\n",
       "      <td>15</td>\n",
       "    </tr>\n",
       "    <tr>\n",
       "      <th>6</th>\n",
       "      <td>7</td>\n",
       "      <td>20</td>\n",
       "      <td>AJCMRFHQGNXBSUZLDYKV</td>\n",
       "      <td>JAK3 [1-20]</td>\n",
       "      <td>55</td>\n",
       "      <td>83</td>\n",
       "      <td>31</td>\n",
       "      <td>38</td>\n",
       "      <td>81</td>\n",
       "      <td>32</td>\n",
       "      <td>33</td>\n",
       "      <td>76</td>\n",
       "      <td>20</td>\n",
       "    </tr>\n",
       "    <tr>\n",
       "      <th>7</th>\n",
       "      <td>8</td>\n",
       "      <td>31</td>\n",
       "      <td>VGKQTRWDHOZSLEBIFJCANXMPKRGQYTS</td>\n",
       "      <td>JAK3 [60-90]</td>\n",
       "      <td>39</td>\n",
       "      <td>65</td>\n",
       "      <td>12</td>\n",
       "      <td>59</td>\n",
       "      <td>88</td>\n",
       "      <td>13</td>\n",
       "      <td>44</td>\n",
       "      <td>66</td>\n",
       "      <td>30</td>\n",
       "    </tr>\n",
       "    <tr>\n",
       "      <th>8</th>\n",
       "      <td>9</td>\n",
       "      <td>21</td>\n",
       "      <td>ZLDYKVPEWITOANEPRYUBH</td>\n",
       "      <td>JAK3 [15-35]</td>\n",
       "      <td>47</td>\n",
       "      <td>78</td>\n",
       "      <td>29</td>\n",
       "      <td>46</td>\n",
       "      <td>79</td>\n",
       "      <td>23</td>\n",
       "      <td>39</td>\n",
       "      <td>84</td>\n",
       "      <td>28</td>\n",
       "    </tr>\n",
       "    <tr>\n",
       "      <th>9</th>\n",
       "      <td>10</td>\n",
       "      <td>31</td>\n",
       "      <td>PRYUBHQXMLSVZKDWFTOGIJCANEPRYUB</td>\n",
       "      <td>JAK3 [30-60]</td>\n",
       "      <td>32</td>\n",
       "      <td>61</td>\n",
       "      <td>7</td>\n",
       "      <td>35</td>\n",
       "      <td>68</td>\n",
       "      <td>9</td>\n",
       "      <td>60</td>\n",
       "      <td>71</td>\n",
       "      <td>6</td>\n",
       "    </tr>\n",
       "  </tbody>\n",
       "</table>\n",
       "</div>"
      ],
      "text/plain": [
       "   Peptides Num  length (aa)    Annotated Amino Acid Sequence  \\\n",
       "0             1           21            IJCAXPNMUYVGKQTRWDHOZ   \n",
       "1             2           31  NXBSUZLDYKVPEWITOANEPRYUBHQXMLS   \n",
       "2             3           21            NXMPKRGQYTSLUODHWBIEZ   \n",
       "3             4           16                 PNMUYVGKQTRWDHOZ   \n",
       "4             5           26       NXBSUZLDYKVPEWITOANEPRYUBH   \n",
       "5             6           26       RWDHOZSLEBIFJCANXMPKRGQYTS   \n",
       "6             7           20             AJCMRFHQGNXBSUZLDYKV   \n",
       "7             8           31  VGKQTRWDHOZSLEBIFJCANXMPKRGQYTS   \n",
       "8             9           21            ZLDYKVPEWITOANEPRYUBH   \n",
       "9            10           31  PRYUBHQXMLSVZKDWFTOGIJCANEPRYUB   \n",
       "\n",
       "  Positions in Master Proteins  Abd. Sample, CTL - Set1  \\\n",
       "0                 JAK3 [50-70]                       49   \n",
       "1                 JAK3 [10-40]                       36   \n",
       "2                JAK3 [80-100]                       52   \n",
       "3                 JAK3 [55-70]                       43   \n",
       "4                 JAK3 [10-35]                       58   \n",
       "5                 JAK3 [65-90]                       31   \n",
       "6                  JAK3 [1-20]                       55   \n",
       "7                 JAK3 [60-90]                       39   \n",
       "8                 JAK3 [15-35]                       47   \n",
       "9                 JAK3 [30-60]                       32   \n",
       "\n",
       "   Abd. Sample, FSH - Set1  Abd. Sample, JNX - Set1  Abd. Sample, CTL - Set2  \\\n",
       "0                       74                       18                       53   \n",
       "1                       80                       25                       45   \n",
       "2                       63                       37                       34   \n",
       "3                       87                        8                       57   \n",
       "4                       72                       35                       41   \n",
       "5                       69                       14                       50   \n",
       "6                       83                       31                       38   \n",
       "7                       65                       12                       59   \n",
       "8                       78                       29                       46   \n",
       "9                       61                        7                       35   \n",
       "\n",
       "   Abd. Sample, FSH - Set2  Abd. Sample, JNX - Set2  Abd. Sample, CTL - Set3  \\\n",
       "0                       61                       22                       56   \n",
       "1                       75                       19                       42   \n",
       "2                       89                       27                       51   \n",
       "3                       73                       11                       37   \n",
       "4                       67                       36                       54   \n",
       "5                       64                       16                       48   \n",
       "6                       81                       32                       33   \n",
       "7                       88                       13                       44   \n",
       "8                       79                       23                       39   \n",
       "9                       68                        9                       60   \n",
       "\n",
       "   Abd. Sample, FSH - Set3  Abd. Sample, JNX - Set3  \n",
       "0                       62                       17  \n",
       "1                       85                       34  \n",
       "2                       77                       26  \n",
       "3                       70                       10  \n",
       "4                       82                       24  \n",
       "5                       86                       15  \n",
       "6                       76                       20  \n",
       "7                       66                       30  \n",
       "8                       84                       28  \n",
       "9                       71                        6  "
      ]
     },
     "execution_count": 38,
     "metadata": {},
     "output_type": "execute_result"
    }
   ],
   "source": [
    "peptides_lib"
   ]
  },
  {
   "cell_type": "code",
   "execution_count": 42,
   "id": "6f531f88",
   "metadata": {},
   "outputs": [
    {
     "data": {
      "text/plain": [
       "Peptides Num                                                   2\n",
       "length (aa)                                                   31\n",
       "Annotated Amino Acid Sequence    NXBSUZLDYKVPEWITOANEPRYUBHQXMLS\n",
       "Positions in Master Proteins                        JAK3 [10-40]\n",
       "Abd. Sample, CTL - Set1                                       36\n",
       "Abd. Sample, FSH - Set1                                       80\n",
       "Abd. Sample, JNX - Set1                                       25\n",
       "Abd. Sample, CTL - Set2                                       45\n",
       "Abd. Sample, FSH - Set2                                       75\n",
       "Abd. Sample, JNX - Set2                                       19\n",
       "Abd. Sample, CTL - Set3                                       42\n",
       "Abd. Sample, FSH - Set3                                       85\n",
       "Abd. Sample, JNX - Set3                                       34\n",
       "Name: 1, dtype: object"
      ]
     },
     "execution_count": 42,
     "metadata": {},
     "output_type": "execute_result"
    }
   ],
   "source": [
    "peptides_lib.loc[peptides_lib['length (aa)'].idxmax()]"
   ]
  },
  {
   "cell_type": "code",
   "execution_count": 43,
   "id": "d4398d3b",
   "metadata": {},
   "outputs": [
    {
     "data": {
      "text/plain": [
       "Peptides Num                                    4\n",
       "length (aa)                                    16\n",
       "Annotated Amino Acid Sequence    PNMUYVGKQTRWDHOZ\n",
       "Positions in Master Proteins         JAK3 [55-70]\n",
       "Abd. Sample, CTL - Set1                        43\n",
       "Abd. Sample, FSH - Set1                        87\n",
       "Abd. Sample, JNX - Set1                         8\n",
       "Abd. Sample, CTL - Set2                        57\n",
       "Abd. Sample, FSH - Set2                        73\n",
       "Abd. Sample, JNX - Set2                        11\n",
       "Abd. Sample, CTL - Set3                        37\n",
       "Abd. Sample, FSH - Set3                        70\n",
       "Abd. Sample, JNX - Set3                        10\n",
       "Name: 3, dtype: object"
      ]
     },
     "execution_count": 43,
     "metadata": {},
     "output_type": "execute_result"
    }
   ],
   "source": [
    "peptides_lib.iloc[peptides_lib['length (aa)'].argmin()]"
   ]
  },
  {
   "cell_type": "code",
   "execution_count": 45,
   "id": "054a53cc",
   "metadata": {},
   "outputs": [
    {
     "data": {
      "text/plain": [
       "3    43\n",
       "Name: Abd. Sample, CTL - Set1, dtype: int64"
      ]
     },
     "execution_count": 45,
     "metadata": {},
     "output_type": "execute_result"
    }
   ],
   "source": [
    "peptides_lib[peptides_lib['length (aa)'] == peptides_lib['length (aa)'].min()]['Abd. Sample, CTL - Set1']"
   ]
  },
  {
   "cell_type": "code",
   "execution_count": 49,
   "id": "81daa10d",
   "metadata": {},
   "outputs": [
    {
     "data": {
      "text/plain": [
       "44.2"
      ]
     },
     "execution_count": 49,
     "metadata": {},
     "output_type": "execute_result"
    }
   ],
   "source": [
    "mean_CTL_s1 = peptides_lib['Abd. Sample, CTL - Set1'].mean()"
   ]
  },
  {
   "cell_type": "code",
   "execution_count": 55,
   "id": "12a27625",
   "metadata": {},
   "outputs": [
    {
     "data": {
      "text/plain": [
       "73.2"
      ]
     },
     "execution_count": 55,
     "metadata": {},
     "output_type": "execute_result"
    }
   ],
   "source": [
    "peptides_lib['Abd. Sample, FSH - Set1'].mean()"
   ]
  },
  {
   "cell_type": "code",
   "execution_count": 56,
   "id": "37c77316",
   "metadata": {},
   "outputs": [
    {
     "data": {
      "text/plain": [
       "21.6"
      ]
     },
     "execution_count": 56,
     "metadata": {},
     "output_type": "execute_result"
    }
   ],
   "source": [
    "peptides_lib['Abd. Sample, JNX - Set1'].mean()"
   ]
  },
  {
   "cell_type": "code",
   "execution_count": 57,
   "id": "2fda5bf2",
   "metadata": {},
   "outputs": [
    {
     "data": {
      "text/plain": [
       "3    JAK3 [55-70]\n",
       "Name: Positions in Master Proteins, dtype: object"
      ]
     },
     "execution_count": 57,
     "metadata": {},
     "output_type": "execute_result"
    }
   ],
   "source": [
    "peptides_lib[peptides_lib['length (aa)'] == peptides_lib['length (aa)'].min()]['Positions in Master Proteins']"
   ]
  },
  {
   "cell_type": "code",
   "execution_count": 63,
   "id": "20a973aa",
   "metadata": {},
   "outputs": [],
   "source": [
    "array1 = peptides_lib['Positions in Master Proteins'].unique()"
   ]
  },
  {
   "cell_type": "code",
   "execution_count": 59,
   "id": "70c39b13",
   "metadata": {},
   "outputs": [
    {
     "data": {
      "text/plain": [
       "10"
      ]
     },
     "execution_count": 59,
     "metadata": {},
     "output_type": "execute_result"
    }
   ],
   "source": [
    "peptides_lib['Positions in Master Proteins'].nunique()"
   ]
  },
  {
   "cell_type": "code",
   "execution_count": 64,
   "id": "f9316764",
   "metadata": {},
   "outputs": [],
   "source": [
    "array2 = peptides_lib['Annotated Amino Acid Sequence'].unique()"
   ]
  },
  {
   "cell_type": "code",
   "execution_count": 61,
   "id": "f4da254a",
   "metadata": {},
   "outputs": [
    {
     "data": {
      "text/plain": [
       "10"
      ]
     },
     "execution_count": 61,
     "metadata": {},
     "output_type": "execute_result"
    }
   ],
   "source": [
    "peptides_lib['Annotated Amino Acid Sequence'].nunique()"
   ]
  },
  {
   "cell_type": "code",
   "execution_count": 104,
   "id": "5c7cb8da",
   "metadata": {},
   "outputs": [],
   "source": [
    "array3 = peptides_lib['length (aa)']"
   ]
  },
  {
   "cell_type": "code",
   "execution_count": 105,
   "id": "2c29a7af",
   "metadata": {},
   "outputs": [
    {
     "data": {
      "text/plain": [
       "0    21\n",
       "1    31\n",
       "2    21\n",
       "3    16\n",
       "4    26\n",
       "5    26\n",
       "6    20\n",
       "7    31\n",
       "8    21\n",
       "9    31\n",
       "Name: length (aa), dtype: int64"
      ]
     },
     "execution_count": 105,
     "metadata": {},
     "output_type": "execute_result"
    }
   ],
   "source": [
    "array3"
   ]
  },
  {
   "cell_type": "code",
   "execution_count": 113,
   "id": "131d5eec",
   "metadata": {},
   "outputs": [],
   "source": [
    "pairs = zip(array1, array2)"
   ]
  },
  {
   "cell_type": "code",
   "execution_count": null,
   "id": "c5ebfda3",
   "metadata": {},
   "outputs": [],
   "source": []
  },
  {
   "cell_type": "code",
   "execution_count": 114,
   "id": "59cc072c",
   "metadata": {},
   "outputs": [
    {
     "name": "stdout",
     "output_type": "stream",
     "text": [
      "{'JAK3 [50-70]': 'IJCAXPNMUYVGKQTRWDHOZ', 'JAK3 [10-40]': 'NXBSUZLDYKVPEWITOANEPRYUBHQXMLS', 'JAK3 [80-100]': 'NXMPKRGQYTSLUODHWBIEZ', 'JAK3 [55-70]': 'PNMUYVGKQTRWDHOZ', 'JAK3 [10-35]': 'NXBSUZLDYKVPEWITOANEPRYUBH', 'JAK3 [65-90]': 'RWDHOZSLEBIFJCANXMPKRGQYTS', 'JAK3 [1-20]': 'AJCMRFHQGNXBSUZLDYKV', 'JAK3 [60-90]': 'VGKQTRWDHOZSLEBIFJCANXMPKRGQYTS', 'JAK3 [15-35]': 'ZLDYKVPEWITOANEPRYUBH', 'JAK3 [30-60]': 'PRYUBHQXMLSVZKDWFTOGIJCANEPRYUB'}\n"
     ]
    }
   ],
   "source": [
    "result_dict = {key: value for key, value in pairs}\n",
    "\n",
    "print(result_dict)"
   ]
  },
  {
   "cell_type": "code",
   "execution_count": 73,
   "id": "fb01f6d3",
   "metadata": {},
   "outputs": [
    {
     "name": "stdout",
     "output_type": "stream",
     "text": [
      "JAK3 [50-70]\n",
      "JAK3 [10-40]\n",
      "JAK3 [80-100]\n",
      "JAK3 [55-70]\n",
      "JAK3 [10-35]\n",
      "JAK3 [65-90]\n",
      "JAK3 [1-20]\n",
      "JAK3 [60-90]\n",
      "JAK3 [15-35]\n",
      "JAK3 [30-60]\n"
     ]
    }
   ],
   "source": [
    "for key in result_dict:\n",
    "    print(key)  # Prints each key"
   ]
  },
  {
   "cell_type": "code",
   "execution_count": 117,
   "id": "6051f4fb",
   "metadata": {},
   "outputs": [
    {
     "name": "stdout",
     "output_type": "stream",
     "text": [
      "IJCAXPNMUYVGKQTRWDHOZ\n",
      "NXBSUZLDYKVPEWITOANEPRYUBHQXMLS\n",
      "NXMPKRGQYTSLUODHWBIEZ\n",
      "PNMUYVGKQTRWDHOZ\n",
      "NXBSUZLDYKVPEWITOANEPRYUBH\n",
      "RWDHOZSLEBIFJCANXMPKRGQYTS\n",
      "AJCMRFHQGNXBSUZLDYKV\n",
      "VGKQTRWDHOZSLEBIFJCANXMPKRGQYTS\n",
      "ZLDYKVPEWITOANEPRYUBH\n",
      "PRYUBHQXMLSVZKDWFTOGIJCANEPRYUB\n"
     ]
    }
   ],
   "source": [
    "# Method 2: Iterating over the dictionary and retrieving values using keys\n",
    "for key in result_dict:\n",
    "    seq = result_dict[key]\n",
    "    print(seq)  # Prints each seq"
   ]
  },
  {
   "cell_type": "code",
   "execution_count": 84,
   "id": "4a2ea56e",
   "metadata": {},
   "outputs": [
    {
     "name": "stdout",
     "output_type": "stream",
     "text": [
      "JAK3 [50-70]\n",
      "JAK3 [10-40]\n",
      "JAK3 [80-100]\n",
      "JAK3 [55-70]\n",
      "JAK3 [10-35]\n",
      "JAK3 [65-90]\n",
      "JAK3 [1-20]\n",
      "JAK3 [60-90]\n",
      "JAK3 [15-35]\n",
      "JAK3 [30-60]\n"
     ]
    }
   ],
   "source": [
    "for key in result_dict:\n",
    "    print(key)"
   ]
  },
  {
   "cell_type": "code",
   "execution_count": 96,
   "id": "7116ac3c",
   "metadata": {},
   "outputs": [
    {
     "data": {
      "text/plain": [
       "{'JAK3 [50-70]': 'IJCAXPNMUYVGKQTRWDHOZ',\n",
       " 'JAK3 [10-40]': 'NXBSUZLDYKVPEWITOANEPRYUBHQXMLS',\n",
       " 'JAK3 [80-100]': 'NXMPKRGQYTSLUODHWBIEZ',\n",
       " 'JAK3 [55-70]': 'PNMUYVGKQTRWDHOZ',\n",
       " 'JAK3 [10-35]': 'NXBSUZLDYKVPEWITOANEPRYUBH',\n",
       " 'JAK3 [65-90]': 'RWDHOZSLEBIFJCANXMPKRGQYTS',\n",
       " 'JAK3 [1-20]': 'AJCMRFHQGNXBSUZLDYKV',\n",
       " 'JAK3 [60-90]': 'VGKQTRWDHOZSLEBIFJCANXMPKRGQYTS',\n",
       " 'JAK3 [15-35]': 'ZLDYKVPEWITOANEPRYUBH',\n",
       " 'JAK3 [30-60]': 'PRYUBHQXMLSVZKDWFTOGIJCANEPRYUB'}"
      ]
     },
     "execution_count": 96,
     "metadata": {},
     "output_type": "execute_result"
    }
   ],
   "source": [
    "result_dict"
   ]
  },
  {
   "cell_type": "code",
   "execution_count": null,
   "id": "3080aea6",
   "metadata": {},
   "outputs": [],
   "source": []
  },
  {
   "cell_type": "code",
   "execution_count": 118,
   "id": "c5a5334c",
   "metadata": {},
   "outputs": [
    {
     "data": {
      "text/html": [
       "<div>\n",
       "<style scoped>\n",
       "    .dataframe tbody tr th:only-of-type {\n",
       "        vertical-align: middle;\n",
       "    }\n",
       "\n",
       "    .dataframe tbody tr th {\n",
       "        vertical-align: top;\n",
       "    }\n",
       "\n",
       "    .dataframe thead th {\n",
       "        text-align: right;\n",
       "    }\n",
       "</style>\n",
       "<table border=\"1\" class=\"dataframe\">\n",
       "  <thead>\n",
       "    <tr style=\"text-align: right;\">\n",
       "      <th></th>\n",
       "      <th>Peptides Num</th>\n",
       "      <th>length (aa)</th>\n",
       "      <th>Annotated Amino Acid Sequence</th>\n",
       "      <th>Positions in Master Proteins</th>\n",
       "      <th>Abd. Sample, CTL - Set1</th>\n",
       "      <th>Abd. Sample, FSH - Set1</th>\n",
       "      <th>Abd. Sample, JNX - Set1</th>\n",
       "      <th>Abd. Sample, CTL - Set2</th>\n",
       "      <th>Abd. Sample, FSH - Set2</th>\n",
       "      <th>Abd. Sample, JNX - Set2</th>\n",
       "      <th>Abd. Sample, CTL - Set3</th>\n",
       "      <th>Abd. Sample, FSH - Set3</th>\n",
       "      <th>Abd. Sample, JNX - Set3</th>\n",
       "    </tr>\n",
       "  </thead>\n",
       "  <tbody>\n",
       "    <tr>\n",
       "      <th>0</th>\n",
       "      <td>1</td>\n",
       "      <td>21</td>\n",
       "      <td>IJCAXPNMUYVGKQTRWDHOZ</td>\n",
       "      <td>JAK3 [50-70]</td>\n",
       "      <td>49</td>\n",
       "      <td>74</td>\n",
       "      <td>18</td>\n",
       "      <td>53</td>\n",
       "      <td>61</td>\n",
       "      <td>22</td>\n",
       "      <td>56</td>\n",
       "      <td>62</td>\n",
       "      <td>17</td>\n",
       "    </tr>\n",
       "    <tr>\n",
       "      <th>1</th>\n",
       "      <td>2</td>\n",
       "      <td>31</td>\n",
       "      <td>NXBSUZLDYKVPEWITOANEPRYUBHQXMLS</td>\n",
       "      <td>JAK3 [10-40]</td>\n",
       "      <td>36</td>\n",
       "      <td>80</td>\n",
       "      <td>25</td>\n",
       "      <td>45</td>\n",
       "      <td>75</td>\n",
       "      <td>19</td>\n",
       "      <td>42</td>\n",
       "      <td>85</td>\n",
       "      <td>34</td>\n",
       "    </tr>\n",
       "    <tr>\n",
       "      <th>2</th>\n",
       "      <td>3</td>\n",
       "      <td>21</td>\n",
       "      <td>NXMPKRGQYTSLUODHWBIEZ</td>\n",
       "      <td>JAK3 [80-100]</td>\n",
       "      <td>52</td>\n",
       "      <td>63</td>\n",
       "      <td>37</td>\n",
       "      <td>34</td>\n",
       "      <td>89</td>\n",
       "      <td>27</td>\n",
       "      <td>51</td>\n",
       "      <td>77</td>\n",
       "      <td>26</td>\n",
       "    </tr>\n",
       "    <tr>\n",
       "      <th>3</th>\n",
       "      <td>4</td>\n",
       "      <td>16</td>\n",
       "      <td>PNMUYVGKQTRWDHOZ</td>\n",
       "      <td>JAK3 [55-70]</td>\n",
       "      <td>43</td>\n",
       "      <td>87</td>\n",
       "      <td>8</td>\n",
       "      <td>57</td>\n",
       "      <td>73</td>\n",
       "      <td>11</td>\n",
       "      <td>37</td>\n",
       "      <td>70</td>\n",
       "      <td>10</td>\n",
       "    </tr>\n",
       "    <tr>\n",
       "      <th>4</th>\n",
       "      <td>5</td>\n",
       "      <td>26</td>\n",
       "      <td>NXBSUZLDYKVPEWITOANEPRYUBH</td>\n",
       "      <td>JAK3 [10-35]</td>\n",
       "      <td>58</td>\n",
       "      <td>72</td>\n",
       "      <td>35</td>\n",
       "      <td>41</td>\n",
       "      <td>67</td>\n",
       "      <td>36</td>\n",
       "      <td>54</td>\n",
       "      <td>82</td>\n",
       "      <td>24</td>\n",
       "    </tr>\n",
       "    <tr>\n",
       "      <th>5</th>\n",
       "      <td>6</td>\n",
       "      <td>26</td>\n",
       "      <td>RWDHOZSLEBIFJCANXMPKRGQYTS</td>\n",
       "      <td>JAK3 [65-90]</td>\n",
       "      <td>31</td>\n",
       "      <td>69</td>\n",
       "      <td>14</td>\n",
       "      <td>50</td>\n",
       "      <td>64</td>\n",
       "      <td>16</td>\n",
       "      <td>48</td>\n",
       "      <td>86</td>\n",
       "      <td>15</td>\n",
       "    </tr>\n",
       "    <tr>\n",
       "      <th>6</th>\n",
       "      <td>7</td>\n",
       "      <td>20</td>\n",
       "      <td>AJCMRFHQGNXBSUZLDYKV</td>\n",
       "      <td>JAK3 [1-20]</td>\n",
       "      <td>55</td>\n",
       "      <td>83</td>\n",
       "      <td>31</td>\n",
       "      <td>38</td>\n",
       "      <td>81</td>\n",
       "      <td>32</td>\n",
       "      <td>33</td>\n",
       "      <td>76</td>\n",
       "      <td>20</td>\n",
       "    </tr>\n",
       "    <tr>\n",
       "      <th>7</th>\n",
       "      <td>8</td>\n",
       "      <td>31</td>\n",
       "      <td>VGKQTRWDHOZSLEBIFJCANXMPKRGQYTS</td>\n",
       "      <td>JAK3 [60-90]</td>\n",
       "      <td>39</td>\n",
       "      <td>65</td>\n",
       "      <td>12</td>\n",
       "      <td>59</td>\n",
       "      <td>88</td>\n",
       "      <td>13</td>\n",
       "      <td>44</td>\n",
       "      <td>66</td>\n",
       "      <td>30</td>\n",
       "    </tr>\n",
       "    <tr>\n",
       "      <th>8</th>\n",
       "      <td>9</td>\n",
       "      <td>21</td>\n",
       "      <td>ZLDYKVPEWITOANEPRYUBH</td>\n",
       "      <td>JAK3 [15-35]</td>\n",
       "      <td>47</td>\n",
       "      <td>78</td>\n",
       "      <td>29</td>\n",
       "      <td>46</td>\n",
       "      <td>79</td>\n",
       "      <td>23</td>\n",
       "      <td>39</td>\n",
       "      <td>84</td>\n",
       "      <td>28</td>\n",
       "    </tr>\n",
       "    <tr>\n",
       "      <th>9</th>\n",
       "      <td>10</td>\n",
       "      <td>31</td>\n",
       "      <td>PRYUBHQXMLSVZKDWFTOGIJCANEPRYUB</td>\n",
       "      <td>JAK3 [30-60]</td>\n",
       "      <td>32</td>\n",
       "      <td>61</td>\n",
       "      <td>7</td>\n",
       "      <td>35</td>\n",
       "      <td>68</td>\n",
       "      <td>9</td>\n",
       "      <td>60</td>\n",
       "      <td>71</td>\n",
       "      <td>6</td>\n",
       "    </tr>\n",
       "  </tbody>\n",
       "</table>\n",
       "</div>"
      ],
      "text/plain": [
       "   Peptides Num  length (aa)    Annotated Amino Acid Sequence  \\\n",
       "0             1           21            IJCAXPNMUYVGKQTRWDHOZ   \n",
       "1             2           31  NXBSUZLDYKVPEWITOANEPRYUBHQXMLS   \n",
       "2             3           21            NXMPKRGQYTSLUODHWBIEZ   \n",
       "3             4           16                 PNMUYVGKQTRWDHOZ   \n",
       "4             5           26       NXBSUZLDYKVPEWITOANEPRYUBH   \n",
       "5             6           26       RWDHOZSLEBIFJCANXMPKRGQYTS   \n",
       "6             7           20             AJCMRFHQGNXBSUZLDYKV   \n",
       "7             8           31  VGKQTRWDHOZSLEBIFJCANXMPKRGQYTS   \n",
       "8             9           21            ZLDYKVPEWITOANEPRYUBH   \n",
       "9            10           31  PRYUBHQXMLSVZKDWFTOGIJCANEPRYUB   \n",
       "\n",
       "  Positions in Master Proteins  Abd. Sample, CTL - Set1  \\\n",
       "0                 JAK3 [50-70]                       49   \n",
       "1                 JAK3 [10-40]                       36   \n",
       "2                JAK3 [80-100]                       52   \n",
       "3                 JAK3 [55-70]                       43   \n",
       "4                 JAK3 [10-35]                       58   \n",
       "5                 JAK3 [65-90]                       31   \n",
       "6                  JAK3 [1-20]                       55   \n",
       "7                 JAK3 [60-90]                       39   \n",
       "8                 JAK3 [15-35]                       47   \n",
       "9                 JAK3 [30-60]                       32   \n",
       "\n",
       "   Abd. Sample, FSH - Set1  Abd. Sample, JNX - Set1  Abd. Sample, CTL - Set2  \\\n",
       "0                       74                       18                       53   \n",
       "1                       80                       25                       45   \n",
       "2                       63                       37                       34   \n",
       "3                       87                        8                       57   \n",
       "4                       72                       35                       41   \n",
       "5                       69                       14                       50   \n",
       "6                       83                       31                       38   \n",
       "7                       65                       12                       59   \n",
       "8                       78                       29                       46   \n",
       "9                       61                        7                       35   \n",
       "\n",
       "   Abd. Sample, FSH - Set2  Abd. Sample, JNX - Set2  Abd. Sample, CTL - Set3  \\\n",
       "0                       61                       22                       56   \n",
       "1                       75                       19                       42   \n",
       "2                       89                       27                       51   \n",
       "3                       73                       11                       37   \n",
       "4                       67                       36                       54   \n",
       "5                       64                       16                       48   \n",
       "6                       81                       32                       33   \n",
       "7                       88                       13                       44   \n",
       "8                       79                       23                       39   \n",
       "9                       68                        9                       60   \n",
       "\n",
       "   Abd. Sample, FSH - Set3  Abd. Sample, JNX - Set3  \n",
       "0                       62                       17  \n",
       "1                       85                       34  \n",
       "2                       77                       26  \n",
       "3                       70                       10  \n",
       "4                       82                       24  \n",
       "5                       86                       15  \n",
       "6                       76                       20  \n",
       "7                       66                       30  \n",
       "8                       84                       28  \n",
       "9                       71                        6  "
      ]
     },
     "execution_count": 118,
     "metadata": {},
     "output_type": "execute_result"
    }
   ],
   "source": [
    "peptides_lib"
   ]
  },
  {
   "cell_type": "code",
   "execution_count": 128,
   "id": "dcfb16ad",
   "metadata": {},
   "outputs": [
    {
     "data": {
      "text/plain": [
       "21    3\n",
       "31    3\n",
       "26    2\n",
       "16    1\n",
       "20    1\n",
       "Name: length (aa), dtype: int64"
      ]
     },
     "execution_count": 128,
     "metadata": {},
     "output_type": "execute_result"
    }
   ],
   "source": [
    "peptides_lib['length (aa)'].value_counts().head()"
   ]
  },
  {
   "cell_type": "code",
   "execution_count": null,
   "id": "7ca982ab",
   "metadata": {},
   "outputs": [],
   "source": []
  },
  {
   "cell_type": "code",
   "execution_count": null,
   "id": "6593f4b8",
   "metadata": {},
   "outputs": [],
   "source": []
  }
 ],
 "metadata": {
  "kernelspec": {
   "display_name": "Python 3 (ipykernel)",
   "language": "python",
   "name": "python3"
  },
  "language_info": {
   "codemirror_mode": {
    "name": "ipython",
    "version": 3
   },
   "file_extension": ".py",
   "mimetype": "text/x-python",
   "name": "python",
   "nbconvert_exporter": "python",
   "pygments_lexer": "ipython3",
   "version": "3.10.9"
  }
 },
 "nbformat": 4,
 "nbformat_minor": 5
}
